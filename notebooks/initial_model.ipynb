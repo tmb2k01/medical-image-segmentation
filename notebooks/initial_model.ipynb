{
 "cells": [
  {
   "cell_type": "markdown",
   "metadata": {},
   "source": [
    "# Initial Model for Brain Tumour Segmentation using MONAI"
   ]
  },
  {
   "cell_type": "code",
   "execution_count": 1,
   "metadata": {},
   "outputs": [],
   "source": [
    "import os\n",
    "import sys\n",
    "\n",
    "project_root = os.path.abspath(os.path.join(os.getcwd(), \"..\"))\n",
    "sys.path.append(os.path.join(project_root, \"src\"))"
   ]
  },
  {
   "cell_type": "code",
   "execution_count": 2,
   "metadata": {},
   "outputs": [
    {
     "name": "stderr",
     "output_type": "stream",
     "text": [
      "/home/tmb2k01/deep_learning/.venv/lib/python3.10/site-packages/tqdm/auto.py:21: TqdmWarning: IProgress not found. Please update jupyter and ipywidgets. See https://ipywidgets.readthedocs.io/en/stable/user_install.html\n",
      "  from .autonotebook import tqdm as notebook_tqdm\n"
     ]
    }
   ],
   "source": [
    "from typing import List, Tuple\n",
    "\n",
    "import matplotlib.pyplot as plt\n",
    "import numpy as np\n",
    "import pytorch_lightning as pl\n",
    "import torch\n",
    "from matplotlib.axes import Axes\n",
    "from monai.losses import DiceLoss\n",
    "from monai.networks.nets import SegResNet, UNETR\n",
    "from torch import Tensor\n",
    "from tqdm import tqdm\n",
    "\n",
    "from dataloader import BrainTumourDataModule\n",
    "\n",
    "import wandb"
   ]
  },
  {
   "cell_type": "code",
   "execution_count": 3,
   "metadata": {},
   "outputs": [
    {
     "name": "stderr",
     "output_type": "stream",
     "text": [
      "\u001b[34m\u001b[1mwandb\u001b[0m: Using wandb-core as the SDK backend. Please refer to https://wandb.me/wandb-core for more information.\n",
      "\u001b[34m\u001b[1mwandb\u001b[0m: Currently logged in as: \u001b[33mtmb2k01\u001b[0m (\u001b[33mtmb2k01-budapesti-m-szaki-s-gazdas-gtudom-nyi-egyetem\u001b[0m). Use \u001b[1m`wandb login --relogin`\u001b[0m to force relogin\n"
     ]
    },
    {
     "data": {
      "text/plain": [
       "True"
      ]
     },
     "execution_count": 3,
     "metadata": {},
     "output_type": "execute_result"
    }
   ],
   "source": [
    "wandb.login()"
   ]
  },
  {
   "cell_type": "markdown",
   "metadata": {},
   "source": [
    "## Wrapping SegResNet\n",
    "\n",
    "The input data must have a shape of (B, N, H, W, D) format\n",
    "\n",
    "- B - batch size\n",
    "- N - number of classes\n",
    "- H - height\n",
    "- W - width\n",
    "- D - depth\n"
   ]
  },
  {
   "cell_type": "code",
   "execution_count": 4,
   "metadata": {},
   "outputs": [],
   "source": [
    "class SegResModel(pl.LightningModule):\n",
    "    def __init__(self, in_channels, out_channels, learning_rate=1e-3):\n",
    "        super(SegResModel, self).__init__()\n",
    "        self.model = SegResNet(in_channels=in_channels, out_channels=out_channels)\n",
    "        self.dice_loss = DiceLoss(softmax=True)\n",
    "        self.learning_rate = learning_rate\n",
    "\n",
    "    def forward(self, x: Tensor) -> Tensor:\n",
    "        return self.model(x)\n",
    "\n",
    "    def training_step(self, batch: Tuple[Tensor, Tensor], batch_idx: int) -> Tensor:\n",
    "        loss, _ = self._common_step(batch, batch_idx)\n",
    "\n",
    "        self.log(\"train_loss\", loss, on_epoch=True)\n",
    "        return loss\n",
    "\n",
    "    def validation_step(self, batch, batch_idx):\n",
    "        loss, _ = self._common_step(batch, batch_idx)\n",
    "\n",
    "        self.log(\"val_loss\", loss, prog_bar=True)\n",
    "        return loss\n",
    "\n",
    "    def _common_step(\n",
    "        self, batch: Tuple[Tensor, Tensor], batch_idx: int\n",
    "    ) -> Tuple[Tensor, Tensor]:\n",
    "        images, labels = batch\n",
    "        preds = self.forward(images)\n",
    "        loss = self.dice_loss(preds, labels)\n",
    "        return loss, preds\n",
    "\n",
    "    def configure_optimizers(self) -> torch.optim.Optimizer:\n",
    "        return torch.optim.AdamW(self.parameters(), lr=self.learning_rate)"
   ]
  },
  {
   "cell_type": "code",
   "execution_count": 5,
   "metadata": {},
   "outputs": [],
   "source": [
    "class UNetModel(pl.LightningModule):\n",
    "    def __init__(self, in_channels, out_channels, learning_rate=1e-3):\n",
    "        super(UNetModel, self).__init__()\n",
    "        self.model = UNETR(\n",
    "            in_channels=4,\n",
    "            out_channels=4,\n",
    "            img_size=(128, 128, 128),\n",
    "        )\n",
    "        self.dice_loss = DiceLoss(softmax=True)\n",
    "        self.learning_rate = learning_rate\n",
    "\n",
    "    def forward(self, x: Tensor) -> Tensor:\n",
    "        return self.model(x)\n",
    "\n",
    "    def training_step(self, batch: Tuple[Tensor, Tensor], batch_idx: int) -> Tensor:\n",
    "        loss, _ = self._common_step(batch, batch_idx)\n",
    "        return loss\n",
    "\n",
    "    def _common_step(\n",
    "        self, batch: Tuple[Tensor, Tensor], batch_idx: int\n",
    "    ) -> Tuple[Tensor, Tensor]:\n",
    "        images, labels = batch\n",
    "        preds = self.forward(images)\n",
    "        loss = self.dice_loss(preds, labels)\n",
    "        return loss, preds\n",
    "\n",
    "    def configure_optimizers(self) -> torch.optim.Optimizer:\n",
    "        return torch.optim.Adam(self.parameters(), lr=self.learning_rate)"
   ]
  },
  {
   "cell_type": "code",
   "execution_count": 6,
   "metadata": {},
   "outputs": [],
   "source": [
    "class EnsembleModel(pl.LightningModule):\n",
    "    def __init__(self, model_list, num_classes):\n",
    "        super(EnsembleModel, self).__init__()\n",
    "        self.models: List[pl.LightningModule] = model_list\n",
    "        self.num_classes: int = num_classes\n",
    "\n",
    "    def forward(self, x):\n",
    "        for model in self.models:\n",
    "            model.eval()\n",
    "\n",
    "        predictions = [model(x) for model in self.models]\n",
    "        averaged_prediction = torch.mean(torch.stack(predictions), dim=0)\n",
    "        return averaged_prediction"
   ]
  },
  {
   "cell_type": "markdown",
   "metadata": {},
   "source": [
    "## Data Module Loading\n"
   ]
  },
  {
   "cell_type": "code",
   "execution_count": 7,
   "metadata": {},
   "outputs": [],
   "source": [
    "image_path = \"../data/BrainTumourData/imagesTr/\"\n",
    "label_path = \"../data/BrainTumourData/labelsTr/\"\n",
    "img_dim = (128, 128)\n",
    "batch_size = 1\n",
    "\n",
    "data_module = BrainTumourDataModule(\n",
    "    data_path=image_path, seg_path=label_path, img_dim=img_dim, batch_size=batch_size\n",
    ")\n",
    "data_module.prepare_data()\n",
    "data_module.setup()"
   ]
  },
  {
   "cell_type": "markdown",
   "metadata": {},
   "source": [
    "## Training the Model\n"
   ]
  },
  {
   "cell_type": "code",
   "execution_count": 8,
   "metadata": {},
   "outputs": [
    {
     "name": "stderr",
     "output_type": "stream",
     "text": [
      "GPU available: True (cuda), used: True\n",
      "TPU available: False, using: 0 TPU cores\n",
      "HPU available: False, using: 0 HPUs\n",
      "You are using a CUDA device ('NVIDIA GeForce RTX 4060 Ti') that has Tensor Cores. To properly utilize them, you should set `torch.set_float32_matmul_precision('medium' | 'high')` which will trade-off precision for performance. For more details, read https://pytorch.org/docs/stable/generated/torch.set_float32_matmul_precision.html#torch.set_float32_matmul_precision\n"
     ]
    },
    {
     "data": {
      "text/html": [
       "Tracking run with wandb version 0.18.2"
      ],
      "text/plain": [
       "<IPython.core.display.HTML object>"
      ]
     },
     "metadata": {},
     "output_type": "display_data"
    },
    {
     "data": {
      "text/html": [
       "Run data is saved locally in <code>./wandb/run-20241105_083226-a4ou2z5s</code>"
      ],
      "text/plain": [
       "<IPython.core.display.HTML object>"
      ]
     },
     "metadata": {},
     "output_type": "display_data"
    },
    {
     "data": {
      "text/html": [
       "Syncing run <strong><a href='https://wandb.ai/tmb2k01-budapesti-m-szaki-s-gazdas-gtudom-nyi-egyetem/medical-image-segmentation/runs/a4ou2z5s' target=\"_blank\">dandy-puddle-6</a></strong> to <a href='https://wandb.ai/tmb2k01-budapesti-m-szaki-s-gazdas-gtudom-nyi-egyetem/medical-image-segmentation' target=\"_blank\">Weights & Biases</a> (<a href='https://wandb.me/run' target=\"_blank\">docs</a>)<br/>"
      ],
      "text/plain": [
       "<IPython.core.display.HTML object>"
      ]
     },
     "metadata": {},
     "output_type": "display_data"
    },
    {
     "data": {
      "text/html": [
       " View project at <a href='https://wandb.ai/tmb2k01-budapesti-m-szaki-s-gazdas-gtudom-nyi-egyetem/medical-image-segmentation' target=\"_blank\">https://wandb.ai/tmb2k01-budapesti-m-szaki-s-gazdas-gtudom-nyi-egyetem/medical-image-segmentation</a>"
      ],
      "text/plain": [
       "<IPython.core.display.HTML object>"
      ]
     },
     "metadata": {},
     "output_type": "display_data"
    },
    {
     "data": {
      "text/html": [
       " View run at <a href='https://wandb.ai/tmb2k01-budapesti-m-szaki-s-gazdas-gtudom-nyi-egyetem/medical-image-segmentation/runs/a4ou2z5s' target=\"_blank\">https://wandb.ai/tmb2k01-budapesti-m-szaki-s-gazdas-gtudom-nyi-egyetem/medical-image-segmentation/runs/a4ou2z5s</a>"
      ],
      "text/plain": [
       "<IPython.core.display.HTML object>"
      ]
     },
     "metadata": {},
     "output_type": "display_data"
    },
    {
     "name": "stderr",
     "output_type": "stream",
     "text": [
      "LOCAL_RANK: 0 - CUDA_VISIBLE_DEVICES: [0]\n",
      "\n",
      "  | Name      | Type      | Params | Mode \n",
      "------------------------------------------------\n",
      "0 | model     | SegResNet | 1.2 M  | train\n",
      "1 | dice_loss | DiceLoss  | 0      | train\n",
      "------------------------------------------------\n",
      "1.2 M     Trainable params\n",
      "0         Non-trainable params\n",
      "1.2 M     Total params\n",
      "4.707     Total estimated model params size (MB)\n",
      "137       Modules in train mode\n",
      "0         Modules in eval mode\n"
     ]
    },
    {
     "name": "stdout",
     "output_type": "stream",
     "text": [
      "Epoch 19: 100%|██████████| 328/328 [02:17<00:00,  2.38it/s, v_num=2z5s, val_loss=0.255]"
     ]
    },
    {
     "name": "stderr",
     "output_type": "stream",
     "text": [
      "`Trainer.fit` stopped: `max_epochs=20` reached.\n"
     ]
    },
    {
     "name": "stdout",
     "output_type": "stream",
     "text": [
      "Epoch 19: 100%|██████████| 328/328 [02:17<00:00,  2.38it/s, v_num=2z5s, val_loss=0.255]\n"
     ]
    },
    {
     "data": {
      "text/html": [
       "<style>\n",
       "    table.wandb td:nth-child(1) { padding: 0 10px; text-align: left ; width: auto;} td:nth-child(2) {text-align: left ; width: 100%}\n",
       "    .wandb-row { display: flex; flex-direction: row; flex-wrap: wrap; justify-content: flex-start; width: 100% }\n",
       "    .wandb-col { display: flex; flex-direction: column; flex-basis: 100%; flex: 1; padding: 10px; }\n",
       "    </style>\n",
       "<div class=\"wandb-row\"><div class=\"wandb-col\"><h3>Run history:</h3><br/><table class=\"wandb\"><tr><td>epoch</td><td>▁▁▁▂▂▂▂▂▃▃▄▄▄▄▄▄▄▄▅▅▅▅▅▅▆▆▆▆▆▇▇▇▇▇██████</td></tr><tr><td>train_loss_epoch</td><td>█▄▃▃▂▂▂▂▂▂▂▁▁▁▁▁▁▁▁▁</td></tr><tr><td>train_loss_step</td><td>██▅▇▄▃▃▄▂▂▃▂▄▁▂▂▃▂▃▂▄▃▄▃▄▃▃▄▃▃▃▃▂▄▄▃▃▃▁▄</td></tr><tr><td>trainer/global_step</td><td>▁▁▁▂▂▂▂▂▃▃▃▃▃▃▄▄▄▄▄▄▅▅▅▅▅▆▆▆▆▆▆▆▇▇▇▇▇▇▇█</td></tr><tr><td>val_loss</td><td>█▄▄▃▃▃▂▂▁▂▂▂▁▂▁▂▁▁▁▁</td></tr></table><br/></div><div class=\"wandb-col\"><h3>Run summary:</h3><br/><table class=\"wandb\"><tr><td>epoch</td><td>19</td></tr><tr><td>train_loss_epoch</td><td>0.26021</td></tr><tr><td>train_loss_step</td><td>0.38634</td></tr><tr><td>trainer/global_step</td><td>6559</td></tr><tr><td>val_loss</td><td>0.25536</td></tr></table><br/></div></div>"
      ],
      "text/plain": [
       "<IPython.core.display.HTML object>"
      ]
     },
     "metadata": {},
     "output_type": "display_data"
    },
    {
     "data": {
      "text/html": [
       " View run <strong style=\"color:#cdcd00\">dandy-puddle-6</strong> at: <a href='https://wandb.ai/tmb2k01-budapesti-m-szaki-s-gazdas-gtudom-nyi-egyetem/medical-image-segmentation/runs/a4ou2z5s' target=\"_blank\">https://wandb.ai/tmb2k01-budapesti-m-szaki-s-gazdas-gtudom-nyi-egyetem/medical-image-segmentation/runs/a4ou2z5s</a><br/> View project at: <a href='https://wandb.ai/tmb2k01-budapesti-m-szaki-s-gazdas-gtudom-nyi-egyetem/medical-image-segmentation' target=\"_blank\">https://wandb.ai/tmb2k01-budapesti-m-szaki-s-gazdas-gtudom-nyi-egyetem/medical-image-segmentation</a><br/>Synced 5 W&B file(s), 0 media file(s), 26 artifact file(s) and 0 other file(s)"
      ],
      "text/plain": [
       "<IPython.core.display.HTML object>"
      ]
     },
     "metadata": {},
     "output_type": "display_data"
    },
    {
     "data": {
      "text/html": [
       "Find logs at: <code>./wandb/run-20241105_083226-a4ou2z5s/logs</code>"
      ],
      "text/plain": [
       "<IPython.core.display.HTML object>"
      ]
     },
     "metadata": {},
     "output_type": "display_data"
    }
   ],
   "source": [
    "# Instantiate each model\n",
    "segresnet = SegResModel(in_channels=4, out_channels=4)\n",
    "\n",
    "# Train each model separately\n",
    "wandb_logger = pl.loggers.WandbLogger(\n",
    "    project=\"medical-image-segmentation\", log_model=\"all\"\n",
    ")\n",
    "checkpoint_callback = pl.callbacks.ModelCheckpoint(monitor=\"val_loss\", mode=\"min\")\n",
    "trainer = pl.Trainer(\n",
    "    max_epochs=20,\n",
    "    logger=wandb_logger,\n",
    "    callbacks=[checkpoint_callback],\n",
    ")\n",
    "trainer.fit(segresnet, data_module)\n",
    "wandb.finish()"
   ]
  },
  {
   "cell_type": "code",
   "execution_count": 9,
   "metadata": {},
   "outputs": [
    {
     "name": "stderr",
     "output_type": "stream",
     "text": [
      "GPU available: True (cuda), used: True\n",
      "TPU available: False, using: 0 TPU cores\n",
      "HPU available: False, using: 0 HPUs\n",
      "/home/tmb2k01/deep_learning/.venv/lib/python3.10/site-packages/pytorch_lightning/trainer/configuration_validator.py:68: You passed in a `val_dataloader` but have no `validation_step`. Skipping val loop.\n"
     ]
    },
    {
     "data": {
      "text/html": [
       "Tracking run with wandb version 0.18.2"
      ],
      "text/plain": [
       "<IPython.core.display.HTML object>"
      ]
     },
     "metadata": {},
     "output_type": "display_data"
    },
    {
     "data": {
      "text/html": [
       "Run data is saved locally in <code>./wandb/run-20241105_091809-tk9fb4ej</code>"
      ],
      "text/plain": [
       "<IPython.core.display.HTML object>"
      ]
     },
     "metadata": {},
     "output_type": "display_data"
    },
    {
     "data": {
      "text/html": [
       "Syncing run <strong><a href='https://wandb.ai/tmb2k01-budapesti-m-szaki-s-gazdas-gtudom-nyi-egyetem/medical-image-segmentation/runs/tk9fb4ej' target=\"_blank\">crimson-shadow-7</a></strong> to <a href='https://wandb.ai/tmb2k01-budapesti-m-szaki-s-gazdas-gtudom-nyi-egyetem/medical-image-segmentation' target=\"_blank\">Weights & Biases</a> (<a href='https://wandb.me/run' target=\"_blank\">docs</a>)<br/>"
      ],
      "text/plain": [
       "<IPython.core.display.HTML object>"
      ]
     },
     "metadata": {},
     "output_type": "display_data"
    },
    {
     "data": {
      "text/html": [
       " View project at <a href='https://wandb.ai/tmb2k01-budapesti-m-szaki-s-gazdas-gtudom-nyi-egyetem/medical-image-segmentation' target=\"_blank\">https://wandb.ai/tmb2k01-budapesti-m-szaki-s-gazdas-gtudom-nyi-egyetem/medical-image-segmentation</a>"
      ],
      "text/plain": [
       "<IPython.core.display.HTML object>"
      ]
     },
     "metadata": {},
     "output_type": "display_data"
    },
    {
     "data": {
      "text/html": [
       " View run at <a href='https://wandb.ai/tmb2k01-budapesti-m-szaki-s-gazdas-gtudom-nyi-egyetem/medical-image-segmentation/runs/tk9fb4ej' target=\"_blank\">https://wandb.ai/tmb2k01-budapesti-m-szaki-s-gazdas-gtudom-nyi-egyetem/medical-image-segmentation/runs/tk9fb4ej</a>"
      ],
      "text/plain": [
       "<IPython.core.display.HTML object>"
      ]
     },
     "metadata": {},
     "output_type": "display_data"
    },
    {
     "name": "stderr",
     "output_type": "stream",
     "text": [
      "LOCAL_RANK: 0 - CUDA_VISIBLE_DEVICES: [0]\n",
      "\n",
      "  | Name      | Type     | Params | Mode \n",
      "-----------------------------------------------\n",
      "0 | model     | UNETR    | 130 M  | train\n",
      "1 | dice_loss | DiceLoss | 0      | train\n",
      "-----------------------------------------------\n",
      "130 M     Trainable params\n",
      "0         Non-trainable params\n",
      "130 M     Total params\n",
      "523.156   Total estimated model params size (MB)\n",
      "448       Modules in train mode\n",
      "0         Modules in eval mode\n"
     ]
    },
    {
     "name": "stdout",
     "output_type": "stream",
     "text": [
      "Epoch 1:   0%|          | 0/328 [00:00<?, ?it/s, v_num=b4ej]          "
     ]
    },
    {
     "name": "stderr",
     "output_type": "stream",
     "text": [
      "/home/tmb2k01/deep_learning/.venv/lib/python3.10/site-packages/pytorch_lightning/callbacks/model_checkpoint.py:384: `ModelCheckpoint(monitor='val_loss')` could not find the monitored key in the returned metrics: ['epoch', 'step']. HINT: Did you call `log('val_loss', value)` in the `LightningModule`?\n"
     ]
    },
    {
     "name": "stdout",
     "output_type": "stream",
     "text": [
      "Epoch 9: 100%|██████████| 328/328 [02:02<00:00,  2.68it/s, v_num=b4ej]"
     ]
    },
    {
     "name": "stderr",
     "output_type": "stream",
     "text": [
      "`Trainer.fit` stopped: `max_epochs=10` reached.\n"
     ]
    },
    {
     "name": "stdout",
     "output_type": "stream",
     "text": [
      "Epoch 9: 100%|██████████| 328/328 [02:02<00:00,  2.68it/s, v_num=b4ej]\n"
     ]
    },
    {
     "data": {
      "text/html": [
       " View run <strong style=\"color:#cdcd00\">crimson-shadow-7</strong> at: <a href='https://wandb.ai/tmb2k01-budapesti-m-szaki-s-gazdas-gtudom-nyi-egyetem/medical-image-segmentation/runs/tk9fb4ej' target=\"_blank\">https://wandb.ai/tmb2k01-budapesti-m-szaki-s-gazdas-gtudom-nyi-egyetem/medical-image-segmentation/runs/tk9fb4ej</a><br/> View project at: <a href='https://wandb.ai/tmb2k01-budapesti-m-szaki-s-gazdas-gtudom-nyi-egyetem/medical-image-segmentation' target=\"_blank\">https://wandb.ai/tmb2k01-budapesti-m-szaki-s-gazdas-gtudom-nyi-egyetem/medical-image-segmentation</a><br/>Synced 5 W&B file(s), 0 media file(s), 0 artifact file(s) and 0 other file(s)"
      ],
      "text/plain": [
       "<IPython.core.display.HTML object>"
      ]
     },
     "metadata": {},
     "output_type": "display_data"
    },
    {
     "data": {
      "text/html": [
       "Find logs at: <code>./wandb/run-20241105_091809-tk9fb4ej/logs</code>"
      ],
      "text/plain": [
       "<IPython.core.display.HTML object>"
      ]
     },
     "metadata": {},
     "output_type": "display_data"
    }
   ],
   "source": [
    "# Instantiate each model\n",
    "unet = UNetModel(in_channels=4, out_channels=4)\n",
    "\n",
    "# Train each model separately\n",
    "wandb_logger = pl.loggers.WandbLogger(\n",
    "    project=\"medical-image-segmentation\", log_model=\"all\"\n",
    ")\n",
    "checkpoint_callback = pl.callbacks.ModelCheckpoint(monitor=\"val_loss\", mode=\"min\")\n",
    "trainer = pl.Trainer(\n",
    "    max_epochs=10,\n",
    "    logger=wandb_logger,\n",
    "    callbacks=[checkpoint_callback],\n",
    ")\n",
    "trainer.fit(unet, data_module)\n",
    "wandb.finish()"
   ]
  },
  {
   "cell_type": "code",
   "execution_count": 10,
   "metadata": {},
   "outputs": [],
   "source": [
    "ensemble_model = EnsembleModel([segresnet, unet], num_classes=4)"
   ]
  },
  {
   "cell_type": "markdown",
   "metadata": {},
   "source": [
    "## Running Tests\n"
   ]
  },
  {
   "cell_type": "code",
   "execution_count": 11,
   "metadata": {},
   "outputs": [
    {
     "name": "stderr",
     "output_type": "stream",
     "text": [
      "100%|██████████| 59/59 [02:22<00:00,  2.41s/it]\n"
     ]
    },
    {
     "name": "stdout",
     "output_type": "stream",
     "text": [
      "images shape: torch.Size([59, 4, 128, 128, 128])\n",
      "predictions shape: torch.Size([59, 4, 128, 128, 128])\n",
      "labels shape: torch.Size([59, 4, 128, 128, 128])\n"
     ]
    }
   ],
   "source": [
    "image_list: List[Tensor] = []\n",
    "prediction_list: List[Tensor] = []\n",
    "label_list: List[Tensor] = []\n",
    "\n",
    "for images, label in tqdm(data_module.test_dataloader()):\n",
    "    with torch.no_grad():\n",
    "        pred: Tensor = ensemble_model(images)\n",
    "        image_list.append(images)\n",
    "        prediction_list.append(pred)\n",
    "        label_list.append(label)\n",
    "\n",
    "images: Tensor = torch.cat(image_list, dim=0)\n",
    "predictions: Tensor = torch.cat(prediction_list, dim=0)\n",
    "labels: Tensor = torch.cat(label_list, dim=0)\n",
    "\n",
    "print(f\"images shape: {images.shape}\")\n",
    "print(f\"predictions shape: {predictions.shape}\")\n",
    "print(f\"labels shape: {labels.shape}\")"
   ]
  },
  {
   "cell_type": "markdown",
   "metadata": {},
   "source": [
    "## Prediction Visualization\n"
   ]
  },
  {
   "cell_type": "code",
   "execution_count": 12,
   "metadata": {},
   "outputs": [],
   "source": [
    "def plot_slices(image: Tensor, label: Tensor, pred: Tensor, slice_index: int) -> None:\n",
    "    image_slice: np.ndarray = image[0, :, :, slice_index].cpu().numpy()\n",
    "    labels_map: Tensor = torch.argmax(label, dim=0)\n",
    "    preds_map: Tensor = torch.argmax(pred, dim=0)\n",
    "\n",
    "    labels_slice: np.ndarray = labels_map[:, :, slice_index].cpu().numpy()\n",
    "    preds_slice: np.ndarray = preds_map[:, :, slice_index].cpu().numpy()\n",
    "\n",
    "    axes: Tuple[Axes, Axes, Axes]\n",
    "    _, axes = plt.subplots(1, 3, figsize=(15, 5))\n",
    "\n",
    "    axes_orig: Axes = axes[0]\n",
    "    axes_truth: Axes = axes[1]\n",
    "    axes_pred: Axes = axes[2]\n",
    "\n",
    "    axes_orig.imshow(image_slice, cmap=\"gray\")\n",
    "    axes_orig.set_title(\"Original MRI Image\")\n",
    "    axes_orig.axis(\"off\")\n",
    "\n",
    "    axes_truth.imshow(labels_slice, cmap=\"jet\")\n",
    "    axes_truth.set_title(\"Ground Truth\")\n",
    "    axes_truth.axis(\"off\")\n",
    "\n",
    "    axes_pred.imshow(preds_slice, cmap=\"jet\")\n",
    "    axes_pred.set_title(\"Predictions\")\n",
    "    axes_pred.axis(\"off\")\n",
    "\n",
    "    plt.show()"
   ]
  },
  {
   "cell_type": "code",
   "execution_count": 13,
   "metadata": {},
   "outputs": [
    {
     "name": "stdout",
     "output_type": "stream",
     "text": [
      "image shape: torch.Size([4, 128, 128, 128])\n",
      "labels shape: torch.Size([4, 128, 128, 128])\n",
      "preds shape: torch.Size([4, 128, 128, 128])\n"
     ]
    }
   ],
   "source": [
    "idx = 0\n",
    "\n",
    "image = images[idx]\n",
    "print(f\"image shape: {image.shape}\")\n",
    "\n",
    "label = labels[idx]\n",
    "print(f\"labels shape: {label.shape}\")\n",
    "\n",
    "pred = predictions[idx]\n",
    "print(f\"preds shape: {pred.shape}\")"
   ]
  },
  {
   "cell_type": "code",
   "execution_count": 14,
   "metadata": {},
   "outputs": [
    {
     "data": {
      "image/png": "[encoded data removed]",
      "text/plain": [
       "<Figure size 1500x500 with 3 Axes>"
      ]
     },
     "metadata": {},
     "output_type": "display_data"
    }
   ],
   "source": [
    "plot_slices(image, label, pred, slice_index=image.shape[3] // 2)"
   ]
  }
 ],
 "metadata": {
  "kernelspec": {
   "display_name": ".venv",
   "language": "python",
   "name": "python3"
  },
  "language_info": {
   "codemirror_mode": {
    "name": "ipython",
    "version": 3
   },
   "file_extension": ".py",
   "mimetype": "text/x-python",
   "name": "python",
   "nbconvert_exporter": "python",
   "pygments_lexer": "ipython3",
   "version": "3.10.12"
  }
 },
 "nbformat": 4,
 "nbformat_minor": 2
}
