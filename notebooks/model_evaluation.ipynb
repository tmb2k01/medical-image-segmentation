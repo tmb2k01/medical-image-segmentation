{
 "cells": [
  {
   "cell_type": "code",
   "execution_count": 35,
   "metadata": {},
   "outputs": [],
   "source": [
    "import torch\n",
    "import os\n",
    "import sys\n",
    "\n",
    "project_root = os.path.abspath(os.path.join(os.getcwd(), \"..\"))\n",
    "sys.path.append(os.path.join(project_root, \"src\"))\n",
    "\n",
    "from model.ensemble import EnsembleModel\n",
    "from model.common import CommonPLModuleWrapper\n",
    "from sklearn.metrics import confusion_matrix\n",
    "from monai.losses import DiceLoss\n",
    "from monai.networks.nets import UNETR, SegResNet\n",
    "from monai.networks.utils import one_hot\n",
    "import pandas as pd\n",
    "\n",
    "\n",
    "from dataloader import BrainTumourDataModule"
   ]
  },
  {
   "cell_type": "code",
   "execution_count": 36,
   "metadata": {},
   "outputs": [],
   "source": [
    "IMAGE_PATH = \"../data/BrainTumourData/imagesTr/\"\n",
    "LABEL_PATH = \"../data/BrainTumourData/labelsTr/\"\n",
    "IMG_SIZE = 128\n",
    "BATCH_SIZE = 1\n",
    "IN_CHANNELS = 4\n",
    "OUT_CHANNELS = 4"
   ]
  },
  {
   "cell_type": "code",
   "execution_count": 37,
   "metadata": {},
   "outputs": [],
   "source": [
    "data_module = BrainTumourDataModule(\n",
    "    data_path=IMAGE_PATH,\n",
    "    seg_path=LABEL_PATH,\n",
    "    img_dim=(IMG_SIZE, IMG_SIZE),\n",
    "    batch_size=BATCH_SIZE,\n",
    ")\n",
    "data_module.prepare_data()\n",
    "data_module.setup()"
   ]
  },
  {
   "cell_type": "code",
   "execution_count": 38,
   "metadata": {},
   "outputs": [],
   "source": [
    "segresnet = CommonPLModuleWrapper(\n",
    "    model=SegResNet(in_channels=IN_CHANNELS, out_channels=OUT_CHANNELS),\n",
    "    loss_fn=DiceLoss(softmax=True),\n",
    ")\n",
    "segres_weights = torch.load(\n",
    "    f\"../model/{segresnet.model.__class__.__name__}.ckpt\", weights_only=True\n",
    ")\n",
    "segresnet.load_state_dict(segres_weights[\"state_dict\"])\n",
    "\n",
    "unet = CommonPLModuleWrapper(\n",
    "    model=UNETR(\n",
    "        in_channels=IN_CHANNELS,\n",
    "        out_channels=OUT_CHANNELS,\n",
    "        img_size=(IMG_SIZE, IMG_SIZE, IMG_SIZE),\n",
    "    ),\n",
    "    loss_fn=DiceLoss(softmax=True),\n",
    ")\n",
    "unet_weights = torch.load(\n",
    "    f\"../model/{unet.model.__class__.__name__}.ckpt\", weights_only=True\n",
    ")\n",
    "unet.load_state_dict(unet_weights[\"state_dict\"])\n",
    "\n",
    "model = EnsembleModel([segresnet, unet], num_classes=4)"
   ]
  },
  {
   "cell_type": "code",
   "execution_count": 39,
   "metadata": {},
   "outputs": [],
   "source": [
    "model.eval()\n",
    "\n",
    "total_batches = len(data_module.test_dataloader())\n",
    "num_classes = 4\n",
    "height, width = 128, 128\n",
    "slices_per_sample = 128\n",
    "\n",
    "all_predictions = torch.empty(\n",
    "    (total_batches, num_classes, slices_per_sample, height, width), dtype=torch.float32\n",
    ")\n",
    "all_targets = torch.empty(\n",
    "    (total_batches, num_classes, slices_per_sample, height, width), dtype=torch.float32\n",
    ")\n",
    "\n",
    "for current_index, (images, targets) in enumerate(data_module.test_dataloader()):\n",
    "    with torch.no_grad():\n",
    "        predictions = model(images)\n",
    "        all_predictions[current_index] = predictions[0]\n",
    "        all_targets[current_index] = targets[0]\n",
    "\n",
    "all_predictions = torch.argmax(all_predictions, dim=1)\n",
    "all_predictions = one_hot(all_predictions.unsqueeze(1), num_classes)"
   ]
  },
  {
   "cell_type": "code",
   "execution_count": 40,
   "metadata": {},
   "outputs": [
    {
     "name": "stdout",
     "output_type": "stream",
     "text": [
      "Dice Coefficient: tensor([0.9983, 0.7614, 0.5068, 0.7581])\n",
      "Mean Dice Coefficient: 0.7561590671539307\n"
     ]
    }
   ],
   "source": [
    "from monai.metrics import (\n",
    "    compute_confusion_matrix_metric,\n",
    "    get_confusion_matrix,\n",
    "    compute_dice,\n",
    ")\n",
    "\n",
    "dice_metric = compute_dice(\n",
    "    y_pred=all_predictions, y=all_targets, ignore_empty=False, num_classes=4\n",
    ")\n",
    "mean_dice = dice_metric.mean(dim=0)\n",
    "print(f\"Dice Coefficient: {mean_dice}\")\n",
    "print(f\"Mean Dice Coefficient: {mean_dice.mean()}\")"
   ]
  },
  {
   "cell_type": "code",
   "execution_count": 41,
   "metadata": {},
   "outputs": [
    {
     "name": "stdout",
     "output_type": "stream",
     "text": [
      "                     Background   Edema  Non-Enhancing Tumor  Enhancing Tumor\n",
      "Background            121621977  162328                 8809             8543\n",
      "Edema                    172758  992667                72317            11855\n",
      "Non-Enhancing Tumor       27951   67165               176307            34232\n",
      "Enhancing Tumor           24168   19820                28726           302345\n"
     ]
    }
   ],
   "source": [
    "index_to_name = {\n",
    "    0: \"Background\",\n",
    "    1: \"Edema\",\n",
    "    2: \"Non-Enhancing Tumor\",\n",
    "    3: \"Enhancing Tumor\",\n",
    "}\n",
    "\n",
    "predicted_classes = torch.argmax(all_predictions, dim=1).flatten().cpu().numpy()\n",
    "target_classes = torch.argmax(all_targets, dim=1).flatten().cpu().numpy()\n",
    "conf_matrix = confusion_matrix(target_classes, predicted_classes)\n",
    "\n",
    "df = pd.DataFrame(\n",
    "    conf_matrix, columns=index_to_name.values(), index=index_to_name.values()\n",
    ")\n",
    "print(df)"
   ]
  },
  {
   "cell_type": "code",
   "execution_count": 42,
   "metadata": {},
   "outputs": [
    {
     "name": "stdout",
     "output_type": "stream",
     "text": [
      "Confusion Matrix: \n",
      "tensor([[9.9267e+05, 2.4931e+05, 1.2223e+08, 2.5693e+05],\n",
      "        [1.7631e+05, 1.0985e+05, 1.2332e+08, 1.2935e+05],\n",
      "        [3.0234e+05, 5.4630e+04, 1.2330e+08, 7.2714e+04]])\n",
      "Recall: tensor([0.7944, 0.5768, 0.8061])\n",
      "Weighted Recall: 0.7349863052368164\n",
      "Precision: tensor([0.7993, 0.6161, 0.8470])\n"
     ]
    }
   ],
   "source": [
    "confusion_matrix = get_confusion_matrix(\n",
    "    y_pred=all_predictions, y=all_targets, include_background=False\n",
    ")\n",
    "cm = confusion_matrix.sum(dim=0)\n",
    "print(f\"Confusion Matrix: \\n{cm}\")\n",
    "\n",
    "recall = compute_confusion_matrix_metric(\n",
    "    confusion_matrix=cm,\n",
    "    metric_name=\"sensitivity\",\n",
    ")\n",
    "print(f\"Recall: {recall}\")\n",
    "\n",
    "alpha = torch.tensor([0.2, 0.3, 0.5])\n",
    "weighted_recall = (recall * alpha).sum()\n",
    "print(f\"Weighted Recall: {weighted_recall}\")\n",
    "\n",
    "precision = compute_confusion_matrix_metric(\n",
    "    confusion_matrix=cm,\n",
    "    metric_name=\"precision\",\n",
    ")\n",
    "print(f\"Precision: {precision}\")"
   ]
  },
  {
   "cell_type": "code",
   "execution_count": 43,
   "metadata": {},
   "outputs": [
    {
     "data": {
      "image/png": "[encoded data removed]",
      "text/plain": [
       "<Figure size 1200x600 with 2 Axes>"
      ]
     },
     "metadata": {},
     "output_type": "display_data"
    }
   ],
   "source": [
    "import matplotlib.pyplot as plt\n",
    "\n",
    "slice = 40\n",
    "example = 15\n",
    "\n",
    "fig, axs = plt.subplots(1, 2, figsize=(12, 6))\n",
    "\n",
    "index_to_name = {\n",
    "    0: \"Background\",\n",
    "    1: \"Edema\",\n",
    "    2: \"Non-Enhancing Tumor\",\n",
    "    3: \"Enhancing Tumor\",\n",
    "}\n",
    "\n",
    "colors = {\n",
    "    0: [68, 0, 84],  # Background - #440054\n",
    "    1: [59, 82, 139],  # Edema - #3b528b\n",
    "    2: [24, 184, 128],  # Non-enhancing Tumor - #18b880\n",
    "    3: [230, 215, 79],  # Enhancing Tumor - #e6d74f\n",
    "}\n",
    "\n",
    "# Normalize colors to [0, 1] range for matplotlib\n",
    "colors = {k: [c / 255.0 for c in v] for k, v in colors.items()}\n",
    "\n",
    "# Create a colormap\n",
    "cmap = plt.cm.colors.ListedColormap([colors[i] for i in range(4)])\n",
    "\n",
    "# Plot predictions\n",
    "axs[0].imshow(all_predictions[example, :, slice, :, :].argmax(axis=0), cmap=cmap)\n",
    "axs[0].set_title(\"Prediction\", fontsize=20)\n",
    "axs[0].axis(\"off\")\n",
    "\n",
    "# Plot ground truth\n",
    "axs[1].imshow(all_targets[example, :, slice, :, :].argmax(axis=0), cmap=cmap)\n",
    "axs[1].set_title(\"Ground Truth\", fontsize=20)\n",
    "axs[1].axis(\"off\")\n",
    "\n",
    "# Create legend\n",
    "handles = [plt.Line2D([0], [0], color=tuple(color), lw=4) for color in colors.values()]\n",
    "labels = [index_to_name[i] for i in range(4)]\n",
    "fig.legend(handles, labels, loc=\"upper left\")\n",
    "\n",
    "plt.tight_layout()\n",
    "plt.show()"
   ]
  }
 ],
 "metadata": {
  "kernelspec": {
   "display_name": ".venv",
   "language": "python",
   "name": "python3"
  },
  "language_info": {
   "codemirror_mode": {
    "name": "ipython",
    "version": 3
   },
   "file_extension": ".py",
   "mimetype": "text/x-python",
   "name": "python",
   "nbconvert_exporter": "python",
   "pygments_lexer": "ipython3",
   "version": "3.10.12"
  }
 },
 "nbformat": 4,
 "nbformat_minor": 2
}
