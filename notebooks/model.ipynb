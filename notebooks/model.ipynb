{
 "cells": [
  {
   "cell_type": "code",
   "execution_count": null,
   "metadata": {},
   "outputs": [],
   "source": [
    "import os\n",
    "import sys\n",
    "\n",
    "project_root = os.path.abspath(os.path.join(os.getcwd(), \"..\"))\n",
    "sys.path.append(os.path.join(project_root, \"src\"))"
   ]
  },
  {
   "cell_type": "code",
   "execution_count": null,
   "metadata": {},
   "outputs": [],
   "source": [
    "from tqdm import tqdm"
   ]
  },
  {
   "cell_type": "code",
   "execution_count": null,
   "metadata": {},
   "outputs": [],
   "source": [
    "from typing import List, Tuple\n",
    "\n",
    "import pytorch_lightning as pl\n",
    "import torch\n",
    "from monai.losses import DiceLoss\n",
    "from monai.networks.nets import SegResNet\n",
    "from torch import Tensor\n",
    "\n",
    "\n",
    "# The input data must have a shape of (B, N, H, W, D) format\n",
    "# * B - batch size\n",
    "# * N - number of classes\n",
    "# * H - height\n",
    "# * W - width\n",
    "# * D - depth\n",
    "class SegResModel(pl.LightningModule):\n",
    "    def __init__(self, in_channels, out_channels, learning_rate=1e-3):\n",
    "        super(SegResModel, self).__init__()\n",
    "        self.model = SegResNet(in_channels=in_channels, out_channels=out_channels)\n",
    "        self.dice_loss = DiceLoss(softmax=True)\n",
    "        self.learning_rate = learning_rate\n",
    "\n",
    "    def forward(self, x: Tensor) -> Tensor:\n",
    "        return self.model(x)\n",
    "\n",
    "    def training_step(self, batch: Tuple[Tensor, Tensor], batch_idx: int) -> Tensor:\n",
    "        loss, _ = self._common_step(batch, batch_idx)\n",
    "        return loss\n",
    "\n",
    "    def test_step(self, batch: Tuple[Tensor, Tensor], batch_idx: int):\n",
    "        loss, _ = self._common_step(batch, batch_idx)\n",
    "        return loss\n",
    "\n",
    "    def _common_step(\n",
    "        self, batch: Tuple[Tensor, Tensor], batch_idx: int\n",
    "    ) -> Tuple[Tensor, Tensor]:\n",
    "        images, labels = batch\n",
    "        preds = self.forward(images)\n",
    "        loss = self.dice_loss(preds, labels)\n",
    "        return loss, preds\n",
    "\n",
    "    def predict_step(self, batch: Tensor, batch_idx: int) -> Tuple[Tensor, Tensor]:\n",
    "        images, labels = batch\n",
    "        preds = self.forward(images)\n",
    "        return preds, labels\n",
    "\n",
    "    def configure_optimizers(self) -> torch.optim.Optimizer:\n",
    "        return torch.optim.Adam(self.parameters(), lr=self.learning_rate)"
   ]
  },
  {
   "cell_type": "code",
   "execution_count": null,
   "metadata": {},
   "outputs": [],
   "source": [
    "class EnsembleModel(pl.LightningModule):\n",
    "    def __init__(self, model_list, num_classes):\n",
    "        super(EnsembleModel, self).__init__()\n",
    "        self.models = model_list\n",
    "        self.num_classes = num_classes\n",
    "\n",
    "    def forward(self, x):\n",
    "        # Collect predictions from each model in the ensemble\n",
    "        predictions = [model(x) for model in self.models]\n",
    "        # Average predictions\n",
    "        averaged_prediction = torch.mean(torch.stack(predictions), dim=0)\n",
    "        return averaged_prediction"
   ]
  },
  {
   "cell_type": "markdown",
   "metadata": {},
   "source": [
    "## Data Module Loading"
   ]
  },
  {
   "cell_type": "code",
   "execution_count": null,
   "metadata": {},
   "outputs": [],
   "source": [
    "from dataloader import BrainTumourDataModule, BrainTumourDataset\n",
    "\n",
    "image_path = \"../data/BrainTumourData/imagesTr/\"\n",
    "label_path = \"../data/BrainTumourData/labelsTr/\"\n",
    "data_module = BrainTumourDataModule(\n",
    "    data_path=image_path, seg_path=label_path, img_dim=(8, 8)\n",
    ")\n",
    "data_module.prepare_data()\n",
    "data_module.setup()"
   ]
  },
  {
   "cell_type": "markdown",
   "metadata": {},
   "source": [
    "## Training the Model"
   ]
  },
  {
   "cell_type": "code",
   "execution_count": null,
   "metadata": {},
   "outputs": [
    {
     "name": "stderr",
     "output_type": "stream",
     "text": [
      "GPU available: True (cuda), used: True\n",
      "TPU available: False, using: 0 TPU cores\n",
      "HPU available: False, using: 0 HPUs\n",
      "/home/kristof/Melytanulas/medical-image-segmentation/.venv/lib/python3.10/site-packages/pytorch_lightning/trainer/connectors/logger_connector/logger_connector.py:75: Starting from v1.9.0, `tensorboardX` has been removed as a dependency of the `pytorch_lightning` package, due to potential conflicts with other packages in the ML ecosystem. For this reason, `logger=True` will use `CSVLogger` as the default logger, unless the `tensorboard` or `tensorboardX` packages are found. Please `pip install lightning[extra]` or one of them to enable TensorBoard support by default\n",
      "/home/kristof/Melytanulas/medical-image-segmentation/.venv/lib/python3.10/site-packages/pytorch_lightning/trainer/configuration_validator.py:68: You passed in a `val_dataloader` but have no `validation_step`. Skipping val loop.\n",
      "LOCAL_RANK: 0 - CUDA_VISIBLE_DEVICES: [0]\n",
      "\n",
      "  | Name      | Type      | Params | Mode \n",
      "------------------------------------------------\n",
      "0 | model     | SegResNet | 1.2 M  | train\n",
      "1 | dice_loss | DiceLoss  | 0      | train\n",
      "------------------------------------------------\n",
      "1.2 M     Trainable params\n",
      "0         Non-trainable params\n",
      "1.2 M     Total params\n",
      "4.706     Total estimated model params size (MB)\n",
      "137       Modules in train mode\n",
      "0         Modules in eval mode\n"
     ]
    },
    {
     "name": "stdout",
     "output_type": "stream",
     "text": [
      "Epoch 0: 100%|██████████| 328/328 [02:23<00:00,  2.29it/s, v_num=45]"
     ]
    },
    {
     "name": "stderr",
     "output_type": "stream",
     "text": [
      "`Trainer.fit` stopped: `max_epochs=1` reached.\n"
     ]
    },
    {
     "name": "stdout",
     "output_type": "stream",
     "text": [
      "Epoch 0: 100%|██████████| 328/328 [02:23<00:00,  2.28it/s, v_num=45]\n"
     ]
    }
   ],
   "source": [
    "# Instantiate each model\n",
    "segresnet = SegResModel(in_channels=2, out_channels=4)\n",
    "# model2 = SegResModel(in_channels=2, out_channels=4)\n",
    "\n",
    "# Train each model separately\n",
    "trainer = pl.Trainer(max_epochs=1)\n",
    "trainer.fit(segresnet, data_module)\n",
    "# trainer.fit(model2, data_module)\n",
    "\n",
    "# Create the ensemble model using the trained models\n",
    "# ensemble_model = EnsembleModel([segresnet], num_classes=4)"
   ]
  },
  {
   "cell_type": "markdown",
   "metadata": {},
   "source": [
    "## Running Tests"
   ]
  },
  {
   "cell_type": "code",
   "execution_count": null,
   "metadata": {},
   "outputs": [
    {
     "name": "stderr",
     "output_type": "stream",
     "text": [
      "  0%|          | 0/59 [00:00<?, ?it/s]"
     ]
    },
    {
     "name": "stderr",
     "output_type": "stream",
     "text": [
      "100%|██████████| 59/59 [00:34<00:00,  1.72it/s]\n"
     ]
    },
    {
     "name": "stdout",
     "output_type": "stream",
     "text": [
      "torch.Size([59, 2, 8, 8, 128])\n",
      "torch.Size([59, 4, 8, 8, 128])\n",
      "torch.Size([59, 4, 8, 8, 128])\n"
     ]
    }
   ],
   "source": [
    "segresnet.eval()\n",
    "\n",
    "image_list: List[Tensor] = []\n",
    "prediction_list: List[Tensor] = []\n",
    "label_list: List[Tensor] = []\n",
    "\n",
    "for images, label in tqdm(data_module.test_dataloader()):\n",
    "    with torch.no_grad():\n",
    "        pred: Tensor = segresnet(images)\n",
    "        image_list.append(images)\n",
    "        prediction_list.append(pred)\n",
    "        label_list.append(label)\n",
    "\n",
    "images: Tensor = torch.cat(image_list, dim=0)\n",
    "predictions: Tensor = torch.cat(prediction_list, dim=0)\n",
    "labels: Tensor = torch.cat(label_list, dim=0)\n",
    "\n",
    "print(f\"images shape: {images.shape}\")\n",
    "print(f\"predictions shape: {predictions.shape}\")\n",
    "print(f\"labels shape: {labels.shape}\")"
   ]
  },
  {
   "cell_type": "markdown",
   "metadata": {},
   "source": [
    "## Prediction Visualization"
   ]
  },
  {
   "cell_type": "code",
   "execution_count": null,
   "metadata": {},
   "outputs": [],
   "source": [
    "from typing import Tuple\n",
    "\n",
    "import matplotlib.pyplot as plt\n",
    "import numpy as np\n",
    "import torch\n",
    "from matplotlib.axes import Axes\n",
    "from torch import Tensor\n",
    "\n",
    "\n",
    "def plot_slices(image: Tensor, label: Tensor, pred: Tensor, slice_index: int) -> None:\n",
    "    image_slice: np.ndarray = image[0, :, :, slice_index].cpu().numpy()\n",
    "    labels_map: Tensor = torch.argmax(label, dim=0)\n",
    "    preds_map: Tensor = torch.argmax(pred, dim=0)\n",
    "\n",
    "    labels_slice: np.ndarray = labels_map[:, :, slice_index].cpu().numpy()\n",
    "    preds_slice: np.ndarray = preds_map[:, :, slice_index].cpu().numpy()\n",
    "\n",
    "    axes: Tuple[Axes, Axes, Axes]\n",
    "    _, axes = plt.subplots(1, 3, figsize=(15, 5))\n",
    "\n",
    "    axes_orig: Axes = axes[0]\n",
    "    axes_truth: Axes = axes[1]\n",
    "    axes_pred: Axes = axes[2]\n",
    "\n",
    "    axes_orig.imshow(image_slice, cmap=\"gray\")\n",
    "    axes_orig.set_title(\"Original MRI Image\")\n",
    "    axes_orig.axis(\"off\")\n",
    "\n",
    "    axes_truth.imshow(labels_slice, cmap=\"jet\")\n",
    "    axes_truth.set_title(\"Ground Truth\")\n",
    "    axes_truth.axis(\"off\")\n",
    "\n",
    "    axes_pred.imshow(preds_slice, cmap=\"jet\")\n",
    "    axes_pred.set_title(\"Predictions\")\n",
    "    axes_pred.axis(\"off\")\n",
    "\n",
    "    plt.show()"
   ]
  },
  {
   "cell_type": "code",
   "execution_count": null,
   "metadata": {},
   "outputs": [
    {
     "name": "stdout",
     "output_type": "stream",
     "text": [
      "image shape: torch.Size([2, 8, 8, 128])\n",
      "labels shape: torch.Size([4, 8, 8, 128])\n",
      "preds shape: torch.Size([4, 8, 8, 128])\n"
     ]
    }
   ],
   "source": [
    "image = images[0]\n",
    "print(f\"image shape: {image.shape}\")\n",
    "\n",
    "label = labels[0]\n",
    "print(f\"labels shape: {label.shape}\")\n",
    "\n",
    "pred = predictions[0]\n",
    "print(f\"preds shape: {pred.shape}\")"
   ]
  },
  {
   "cell_type": "code",
   "execution_count": null,
   "metadata": {},
   "outputs": [
    {
     "data": {
      "image/png": "[encoded data removed]",
      "text/plain": [
       "<Figure size 1500x500 with 3 Axes>"
      ]
     },
     "metadata": {},
     "output_type": "display_data"
    }
   ],
   "source": [
    "plot_slices(image, label, pred, slice_index=image.shape[3] // 2)"
   ]
  }
 ],
 "metadata": {
  "kernelspec": {
   "display_name": ".venv",
   "language": "python",
   "name": "python3"
  },
  "language_info": {
   "codemirror_mode": {
    "name": "ipython",
    "version": 3
   },
   "file_extension": ".py",
   "mimetype": "text/x-python",
   "name": "python",
   "nbconvert_exporter": "python",
   "pygments_lexer": "ipython3",
   "version": "3.10.12"
  }
 },
 "nbformat": 4,
 "nbformat_minor": 2
}
