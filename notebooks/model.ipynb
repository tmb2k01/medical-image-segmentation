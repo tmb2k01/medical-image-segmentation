{
 "cells": [
  {
   "cell_type": "code",
   "execution_count": null,
   "metadata": {},
   "outputs": [],
   "source": [
    "import os\n",
    "import sys\n",
    "\n",
    "project_root = os.path.abspath(os.path.join(os.getcwd(), \"..\"))\n",
    "sys.path.append(os.path.join(project_root, \"src\"))"
   ]
  },
  {
   "cell_type": "code",
   "execution_count": null,
   "metadata": {},
   "outputs": [],
   "source": [
    "from typing import Tuple\n",
    "\n",
    "import pytorch_lightning as pl\n",
    "import torch\n",
    "from monai.losses import DiceLoss\n",
    "from monai.networks.nets import UNETR, SegResNet\n",
    "from torch import Tensor\n",
    "\n",
    "\n",
    "class SegResModel(pl.LightningModule):\n",
    "    def __init__(self, in_channels, out_channels, learning_rate=1e-3):\n",
    "        super(SegResModel, self).__init__()\n",
    "        self.model = SegResNet(in_channels=in_channels, out_channels=out_channels)\n",
    "        self.loss_fn = DiceLoss(\n",
    "            smooth_nr=0,\n",
    "            smooth_dr=1e-5,\n",
    "            squared_pred=True,\n",
    "            to_onehot_y=False,\n",
    "            sigmoid=True,\n",
    "        )\n",
    "        self.learning_rate = learning_rate\n",
    "\n",
    "    def forward(self, x: Tensor) -> Tensor:\n",
    "        return self.model(x)\n",
    "\n",
    "    def training_step(self, batch: Tuple[Tensor, Tensor], batch_idx: int) -> Tensor:\n",
    "        loss, _ = self._common_step(batch, batch_idx)\n",
    "        return loss\n",
    "\n",
    "    def test_step(self, batch: Tuple[Tensor, Tensor], batch_idx: int) -> Tensor:\n",
    "        loss, _ = self._common_step(batch, batch_idx)\n",
    "        return loss\n",
    "\n",
    "    def _common_step(\n",
    "        self, batch: Tuple[Tensor, Tensor], batch_idx: int\n",
    "    ) -> Tuple[Tensor, Tensor]:\n",
    "        images, labels = batch\n",
    "        preds = self.forward(images)\n",
    "        loss = self.loss_fn(preds, labels)\n",
    "        return loss, preds\n",
    "\n",
    "    def predict_step(self, batch: Tensor, batch_idx: int) -> Tuple[Tensor, Tensor]:\n",
    "        images, labels = batch\n",
    "        preds = self.forward(images)\n",
    "        return preds, labels\n",
    "\n",
    "    def configure_optimizers(self) -> torch.optim.Optimizer:\n",
    "        return torch.optim.Adam(self.parameters(), lr=self.learning_rate)"
   ]
  },
  {
   "cell_type": "code",
   "execution_count": null,
   "metadata": {},
   "outputs": [],
   "source": [
    "class EnsembleModel(pl.LightningModule):\n",
    "    def __init__(self, model_list, num_classes):\n",
    "        super(EnsembleModel, self).__init__()\n",
    "        self.models = model_list\n",
    "        self.num_classes = num_classes\n",
    "\n",
    "    def forward(self, x):\n",
    "        # Collect predictions from each model in the ensemble\n",
    "        predictions = [model(x) for model in self.models]\n",
    "        # Average predictions\n",
    "        averaged_prediction = torch.mean(torch.stack(predictions), dim=0)\n",
    "        return averaged_prediction"
   ]
  },
  {
   "cell_type": "code",
   "execution_count": null,
   "metadata": {},
   "outputs": [],
   "source": [
    "from dataloader import BrainTumourDataModule, BrainTumourDataset\n",
    "\n",
    "image_path = \"../data/BrainTumourData/imagesTr/\"\n",
    "label_path = \"../data/BrainTumourData/labelsTr/\"\n",
    "data_module = BrainTumourDataModule(\n",
    "    data_path=image_path, seg_path=label_path, img_dim=(8, 8)\n",
    ")\n",
    "data_module.prepare_data()\n",
    "data_module.setup()"
   ]
  },
  {
   "cell_type": "code",
   "execution_count": null,
   "metadata": {},
   "outputs": [
    {
     "name": "stderr",
     "output_type": "stream",
     "text": [
      "GPU available: True (cuda), used: True\n",
      "TPU available: False, using: 0 TPU cores\n",
      "HPU available: False, using: 0 HPUs\n",
      "LOCAL_RANK: 0 - CUDA_VISIBLE_DEVICES: [0]\n",
      "\n",
      "  | Name    | Type      | Params | Mode \n",
      "----------------------------------------------\n",
      "0 | model   | SegResNet | 1.2 M  | train\n",
      "1 | loss_fn | DiceLoss  | 0      | train\n",
      "----------------------------------------------\n",
      "1.2 M     Trainable params\n",
      "0         Non-trainable params\n",
      "1.2 M     Total params\n",
      "4.706     Total estimated model params size (MB)\n",
      "137       Modules in train mode\n",
      "0         Modules in eval mode\n"
     ]
    },
    {
     "name": "stdout",
     "output_type": "stream",
     "text": [
      "Epoch 0: 100%|██████████| 328/328 [02:34<00:00,  2.13it/s, v_num=37]"
     ]
    },
    {
     "name": "stderr",
     "output_type": "stream",
     "text": [
      "`Trainer.fit` stopped: `max_epochs=1` reached.\n"
     ]
    },
    {
     "name": "stdout",
     "output_type": "stream",
     "text": [
      "Epoch 0: 100%|██████████| 328/328 [02:34<00:00,  2.12it/s, v_num=37]\n"
     ]
    }
   ],
   "source": [
    "# Instantiate each model\n",
    "model1 = SegResModel(in_channels=2, out_channels=4)\n",
    "# model2 = SegResModel(in_channels=2, out_channels=4)\n",
    "\n",
    "# Train each model separately\n",
    "trainer = pl.Trainer(max_epochs=1)\n",
    "trainer.fit(model1, data_module)\n",
    "# trainer.fit(model2, data_module)\n",
    "\n",
    "# Create the ensemble model using the trained models\n",
    "ensemble_model = EnsembleModel([model1], num_classes=4)"
   ]
  },
  {
   "cell_type": "code",
   "execution_count": null,
   "metadata": {},
   "outputs": [],
   "source": [
    "test_ds = BrainTumourDataset(\n",
    "    \"../data/BrainTumourData/imagesTr/\",\n",
    "    \"../data/BrainTumourData/labelsTr/\",\n",
    "    [\"BRATS_001.nii.gz\"],\n",
    "    img_dim=(8, 8),\n",
    ")"
   ]
  },
  {
   "cell_type": "code",
   "execution_count": null,
   "metadata": {},
   "outputs": [],
   "source": [
    "test_data_example = test_ds[0]\n",
    "image, label = test_data_example"
   ]
  },
  {
   "cell_type": "code",
   "execution_count": null,
   "metadata": {},
   "outputs": [],
   "source": [
    "import numpy as np"
   ]
  },
  {
   "cell_type": "code",
   "execution_count": null,
   "metadata": {},
   "outputs": [
    {
     "data": {
      "text/plain": [
       "torch.Size([1, 2, 8, 8, 128])"
      ]
     },
     "execution_count": 48,
     "metadata": {},
     "output_type": "execute_result"
    }
   ],
   "source": [
    "image = torch.tensor(np.array([image]))\n",
    "image.shape"
   ]
  },
  {
   "cell_type": "code",
   "execution_count": null,
   "metadata": {},
   "outputs": [
    {
     "data": {
      "text/plain": [
       "torch.Size([1, 4, 8, 8, 128])"
      ]
     },
     "execution_count": 49,
     "metadata": {},
     "output_type": "execute_result"
    }
   ],
   "source": [
    "label = torch.tensor(np.array([label]))\n",
    "label.shape"
   ]
  },
  {
   "cell_type": "code",
   "execution_count": null,
   "metadata": {},
   "outputs": [],
   "source": [
    "pred = model1.forward(image)"
   ]
  },
  {
   "cell_type": "code",
   "execution_count": null,
   "metadata": {},
   "outputs": [],
   "source": []
  }
 ],
 "metadata": {
  "kernelspec": {
   "display_name": ".venv",
   "language": "python",
   "name": "python3"
  },
  "language_info": {
   "codemirror_mode": {
    "name": "ipython",
    "version": 3
   },
   "file_extension": ".py",
   "mimetype": "text/x-python",
   "name": "python",
   "nbconvert_exporter": "python",
   "pygments_lexer": "ipython3",
   "version": "3.10.12"
  }
 },
 "nbformat": 4,
 "nbformat_minor": 2
}
