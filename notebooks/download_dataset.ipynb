{
 "cells": [
  {
   "cell_type": "code",
   "execution_count": 5,
   "metadata": {},
   "outputs": [],
   "source": [
    "import gdown\n",
    "import tarfile\n",
    "import os\n",
    "import glob\n",
    "from pathlib import Path"
   ]
  },
  {
   "cell_type": "code",
   "execution_count": 7,
   "metadata": {},
   "outputs": [],
   "source": [
    "file_id = '12XoMqhANCWrnFFrl-3cDmd9Xx_hVkJrk'\n",
    "url = f'https://drive.google.com/uc?/export=download&id={file_id}'\n",
    "output = '../BrainTumourRaw.tar'"
   ]
  },
  {
   "cell_type": "code",
   "execution_count": 20,
   "metadata": {},
   "outputs": [
    {
     "name": "stderr",
     "output_type": "stream",
     "text": [
      "Downloading...\n",
      "From (original): https://drive.google.com/uc?/export=download&id=12XoMqhANCWrnFFrl-3cDmd9Xx_hVkJrk\n",
      "From (redirected): https://drive.google.com/uc?%2Fexport=download&id=12XoMqhANCWrnFFrl-3cDmd9Xx_hVkJrk&confirm=t&uuid=fb55b10b-3633-4693-bd27-2a37b9afa8b1\n",
      "To: /home/tmb2k01/deep_learning/medical-image-segmentation/BrainTumourRaw.tar\n",
      "100%|██████████| 7.61G/7.61G [02:03<00:00, 61.4MB/s]\n"
     ]
    },
    {
     "data": {
      "text/plain": [
       "'BrainTumourRaw.tar'"
      ]
     },
     "execution_count": 20,
     "metadata": {},
     "output_type": "execute_result"
    }
   ],
   "source": [
    "gdown.download(url, output, quiet=False)"
   ]
  },
  {
   "cell_type": "code",
   "execution_count": 21,
   "metadata": {},
   "outputs": [
    {
     "name": "stdout",
     "output_type": "stream",
     "text": [
      "Extraction completed!\n"
     ]
    }
   ],
   "source": [
    "extract_to = \"../\"\n",
    "with tarfile.open(output, \"r\") as tar:\n",
    "    tar.extractall(path=extract_to)\n",
    "    print(\"Extraction completed!\")"
   ]
  },
  {
   "cell_type": "code",
   "execution_count": 22,
   "metadata": {},
   "outputs": [
    {
     "name": "stdout",
     "output_type": "stream",
     "text": [
      "Folder renamed from './Task01_BrainTumour' to './BrainTumourData'\n"
     ]
    }
   ],
   "source": [
    "old_folder_name = \"../Task01_BrainTumour\"\n",
    "new_folder_name = \"../BrainTumourData\"\n",
    "\n",
    "os.rename(old_folder_name, new_folder_name)\n",
    "print(f\"Folder renamed from '{old_folder_name}' to '{new_folder_name}'\")"
   ]
  },
  {
   "cell_type": "code",
   "execution_count": 23,
   "metadata": {},
   "outputs": [
    {
     "name": "stdout",
     "output_type": "stream",
     "text": [
      "Every hidden file in './BrainTumourData' has been deleted!\n"
     ]
    }
   ],
   "source": [
    "def delete_hidden_files(folder_path):\n",
    "    # Recursively find all '._*' files in the directory\n",
    "    for file_path in glob.iglob(os.path.join(folder_path, '**', '._*'), recursive=True):\n",
    "        try:\n",
    "            os.remove(file_path)\n",
    "        except Exception as e:\n",
    "            print(f\"Error deleting {file_path}: {e}\")\n",
    "    \n",
    "    print(f\"Every hidden file in '{folder_path}' has been deleted!\")\n",
    "\n",
    "delete_hidden_files(new_folder_name)"
   ]
  }
 ],
 "metadata": {
  "kernelspec": {
   "display_name": ".venv",
   "language": "python",
   "name": "python3"
  },
  "language_info": {
   "codemirror_mode": {
    "name": "ipython",
    "version": 3
   },
   "file_extension": ".py",
   "mimetype": "text/x-python",
   "name": "python",
   "nbconvert_exporter": "python",
   "pygments_lexer": "ipython3",
   "version": "3.10.12"
  }
 },
 "nbformat": 4,
 "nbformat_minor": 2
}
